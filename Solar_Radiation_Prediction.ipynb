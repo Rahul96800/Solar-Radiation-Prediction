{
  "cells": [
    {
      "cell_type": "markdown",
      "metadata": {
        "id": "l04ygUWCElbY"
      },
      "source": [
        "Importing the required libraries."
      ]
    },
    {
      "cell_type": "code",
      "execution_count": 4,
      "metadata": {
        "id": "3wFECWNsEqfL"
      },
      "outputs": [],
      "source": [
        "import pandas as pd\n",
        "import seaborn as sns\n",
        "import matplotlib.pyplot as plt\n",
        "from sklearn.model_selection import train_test_split\n",
        "from sklearn.linear_model import LinearRegression\n",
        "from sklearn.metrics import r2_score\n",
        "from sklearn.ensemble import RandomForestRegressor\n",
        "from sklearn.model_selection import ParameterGrid\n",
        "from sklearn.model_selection import GridSearchCV\n",
        "from sklearn.preprocessing import StandardScaler\n",
        "import pickle"
      ]
    },
    {
      "cell_type": "markdown",
      "metadata": {
        "id": "cBUYPgKBE_C0"
      },
      "source": [
        "Exploring the dataset (EDA)"
      ]
    },
    {
      "cell_type": "code",
      "execution_count": 5,
      "metadata": {
        "id": "hQDL8tmnFHBD"
      },
      "outputs": [],
      "source": [
        "dataset = pd.read_csv(\"Dataset\\Solar_Prediction.csv\")"
      ]
    },
    {
      "cell_type": "code",
      "execution_count": 6,
      "metadata": {
        "colab": {
          "base_uri": "https://localhost:8080/",
          "height": 206
        },
        "id": "MdEZEykuFgTu",
        "outputId": "ae166499-7a7e-4451-b3f3-38eace0feccf"
      },
      "outputs": [
        {
          "data": {
            "text/html": [
              "<div>\n",
              "<style scoped>\n",
              "    .dataframe tbody tr th:only-of-type {\n",
              "        vertical-align: middle;\n",
              "    }\n",
              "\n",
              "    .dataframe tbody tr th {\n",
              "        vertical-align: top;\n",
              "    }\n",
              "\n",
              "    .dataframe thead th {\n",
              "        text-align: right;\n",
              "    }\n",
              "</style>\n",
              "<table border=\"1\" class=\"dataframe\">\n",
              "  <thead>\n",
              "    <tr style=\"text-align: right;\">\n",
              "      <th></th>\n",
              "      <th>UNIXTime</th>\n",
              "      <th>Data</th>\n",
              "      <th>Time</th>\n",
              "      <th>Radiation</th>\n",
              "      <th>Temperature</th>\n",
              "      <th>Pressure</th>\n",
              "      <th>Humidity</th>\n",
              "      <th>WindDirection(Degrees)</th>\n",
              "      <th>Speed</th>\n",
              "      <th>TimeSunRise</th>\n",
              "      <th>TimeSunSet</th>\n",
              "    </tr>\n",
              "  </thead>\n",
              "  <tbody>\n",
              "    <tr>\n",
              "      <th>0</th>\n",
              "      <td>1475229023</td>\n",
              "      <td>9/29/2016 12:00:00 AM</td>\n",
              "      <td>23:50:23</td>\n",
              "      <td>1.21</td>\n",
              "      <td>48</td>\n",
              "      <td>30.46</td>\n",
              "      <td>58</td>\n",
              "      <td>176.78</td>\n",
              "      <td>3.37</td>\n",
              "      <td>06:13:00</td>\n",
              "      <td>18:13:00</td>\n",
              "    </tr>\n",
              "    <tr>\n",
              "      <th>1</th>\n",
              "      <td>1475228726</td>\n",
              "      <td>9/29/2016 12:00:00 AM</td>\n",
              "      <td>23:45:26</td>\n",
              "      <td>1.23</td>\n",
              "      <td>48</td>\n",
              "      <td>30.46</td>\n",
              "      <td>57</td>\n",
              "      <td>158.75</td>\n",
              "      <td>3.37</td>\n",
              "      <td>06:13:00</td>\n",
              "      <td>18:13:00</td>\n",
              "    </tr>\n",
              "    <tr>\n",
              "      <th>2</th>\n",
              "      <td>1475228421</td>\n",
              "      <td>9/29/2016 12:00:00 AM</td>\n",
              "      <td>23:40:21</td>\n",
              "      <td>1.21</td>\n",
              "      <td>48</td>\n",
              "      <td>30.46</td>\n",
              "      <td>60</td>\n",
              "      <td>137.71</td>\n",
              "      <td>3.37</td>\n",
              "      <td>06:13:00</td>\n",
              "      <td>18:13:00</td>\n",
              "    </tr>\n",
              "    <tr>\n",
              "      <th>3</th>\n",
              "      <td>1475228124</td>\n",
              "      <td>9/29/2016 12:00:00 AM</td>\n",
              "      <td>23:35:24</td>\n",
              "      <td>1.17</td>\n",
              "      <td>48</td>\n",
              "      <td>30.46</td>\n",
              "      <td>62</td>\n",
              "      <td>104.95</td>\n",
              "      <td>5.62</td>\n",
              "      <td>06:13:00</td>\n",
              "      <td>18:13:00</td>\n",
              "    </tr>\n",
              "    <tr>\n",
              "      <th>4</th>\n",
              "      <td>1475227824</td>\n",
              "      <td>9/29/2016 12:00:00 AM</td>\n",
              "      <td>23:30:24</td>\n",
              "      <td>1.21</td>\n",
              "      <td>48</td>\n",
              "      <td>30.46</td>\n",
              "      <td>64</td>\n",
              "      <td>120.20</td>\n",
              "      <td>5.62</td>\n",
              "      <td>06:13:00</td>\n",
              "      <td>18:13:00</td>\n",
              "    </tr>\n",
              "  </tbody>\n",
              "</table>\n",
              "</div>"
            ],
            "text/plain": [
              "     UNIXTime                   Data      Time  Radiation  Temperature  \\\n",
              "0  1475229023  9/29/2016 12:00:00 AM  23:50:23       1.21           48   \n",
              "1  1475228726  9/29/2016 12:00:00 AM  23:45:26       1.23           48   \n",
              "2  1475228421  9/29/2016 12:00:00 AM  23:40:21       1.21           48   \n",
              "3  1475228124  9/29/2016 12:00:00 AM  23:35:24       1.17           48   \n",
              "4  1475227824  9/29/2016 12:00:00 AM  23:30:24       1.21           48   \n",
              "\n",
              "   Pressure  Humidity  WindDirection(Degrees)  Speed TimeSunRise TimeSunSet  \n",
              "0     30.46        58                  176.78   3.37    06:13:00   18:13:00  \n",
              "1     30.46        57                  158.75   3.37    06:13:00   18:13:00  \n",
              "2     30.46        60                  137.71   3.37    06:13:00   18:13:00  \n",
              "3     30.46        62                  104.95   5.62    06:13:00   18:13:00  \n",
              "4     30.46        64                  120.20   5.62    06:13:00   18:13:00  "
            ]
          },
          "execution_count": 6,
          "metadata": {},
          "output_type": "execute_result"
        }
      ],
      "source": [
        "dataset.head()"
      ]
    },
    {
      "cell_type": "code",
      "execution_count": 7,
      "metadata": {
        "colab": {
          "base_uri": "https://localhost:8080/"
        },
        "id": "WVTsafOwFlPF",
        "outputId": "c6cec001-c8be-44a7-ea9e-f7c4a29a7f1d"
      },
      "outputs": [
        {
          "name": "stdout",
          "output_type": "stream",
          "text": [
            "<class 'pandas.core.frame.DataFrame'>\n",
            "RangeIndex: 32685 entries, 0 to 32684\n",
            "Data columns (total 11 columns):\n",
            " #   Column                  Non-Null Count  Dtype  \n",
            "---  ------                  --------------  -----  \n",
            " 0   UNIXTime                32685 non-null  int64  \n",
            " 1   Data                    32685 non-null  object \n",
            " 2   Time                    32685 non-null  object \n",
            " 3   Radiation               32685 non-null  float64\n",
            " 4   Temperature             32685 non-null  int64  \n",
            " 5   Pressure                32685 non-null  float64\n",
            " 6   Humidity                32685 non-null  int64  \n",
            " 7   WindDirection(Degrees)  32685 non-null  float64\n",
            " 8   Speed                   32685 non-null  float64\n",
            " 9   TimeSunRise             32685 non-null  object \n",
            " 10  TimeSunSet              32685 non-null  object \n",
            "dtypes: float64(4), int64(3), object(4)\n",
            "memory usage: 2.7+ MB\n"
          ]
        }
      ],
      "source": [
        "dataset.info()"
      ]
    },
    {
      "cell_type": "code",
      "execution_count": 8,
      "metadata": {
        "colab": {
          "base_uri": "https://localhost:8080/"
        },
        "id": "fA8U6IvfFzbg",
        "outputId": "a03099c9-493d-46f6-feed-7771a98521fa"
      },
      "outputs": [
        {
          "data": {
            "text/plain": [
              "(32685, 11)"
            ]
          },
          "execution_count": 8,
          "metadata": {},
          "output_type": "execute_result"
        }
      ],
      "source": [
        "dataset.shape"
      ]
    },
    {
      "cell_type": "code",
      "execution_count": 9,
      "metadata": {
        "colab": {
          "base_uri": "https://localhost:8080/",
          "height": 300
        },
        "id": "pRgY-f2PGBKB",
        "outputId": "950e8a3e-20c4-4ffc-f050-2b4c11c15730"
      },
      "outputs": [
        {
          "data": {
            "text/html": [
              "<div>\n",
              "<style scoped>\n",
              "    .dataframe tbody tr th:only-of-type {\n",
              "        vertical-align: middle;\n",
              "    }\n",
              "\n",
              "    .dataframe tbody tr th {\n",
              "        vertical-align: top;\n",
              "    }\n",
              "\n",
              "    .dataframe thead th {\n",
              "        text-align: right;\n",
              "    }\n",
              "</style>\n",
              "<table border=\"1\" class=\"dataframe\">\n",
              "  <thead>\n",
              "    <tr style=\"text-align: right;\">\n",
              "      <th></th>\n",
              "      <th>UNIXTime</th>\n",
              "      <th>Radiation</th>\n",
              "      <th>Temperature</th>\n",
              "      <th>Pressure</th>\n",
              "      <th>Humidity</th>\n",
              "      <th>WindDirection(Degrees)</th>\n",
              "      <th>Speed</th>\n",
              "    </tr>\n",
              "  </thead>\n",
              "  <tbody>\n",
              "    <tr>\n",
              "      <th>count</th>\n",
              "      <td>3.268500e+04</td>\n",
              "      <td>32685.000000</td>\n",
              "      <td>32685.000000</td>\n",
              "      <td>32685.000000</td>\n",
              "      <td>32685.000000</td>\n",
              "      <td>32685.000000</td>\n",
              "      <td>32685.000000</td>\n",
              "    </tr>\n",
              "    <tr>\n",
              "      <th>mean</th>\n",
              "      <td>1.478047e+09</td>\n",
              "      <td>207.130997</td>\n",
              "      <td>51.103350</td>\n",
              "      <td>30.422878</td>\n",
              "      <td>75.016797</td>\n",
              "      <td>143.488784</td>\n",
              "      <td>6.243888</td>\n",
              "    </tr>\n",
              "    <tr>\n",
              "      <th>std</th>\n",
              "      <td>3.005042e+06</td>\n",
              "      <td>315.919167</td>\n",
              "      <td>6.201228</td>\n",
              "      <td>0.054674</td>\n",
              "      <td>25.990465</td>\n",
              "      <td>83.168561</td>\n",
              "      <td>3.490525</td>\n",
              "    </tr>\n",
              "    <tr>\n",
              "      <th>min</th>\n",
              "      <td>1.472724e+09</td>\n",
              "      <td>1.110000</td>\n",
              "      <td>34.000000</td>\n",
              "      <td>30.190000</td>\n",
              "      <td>8.000000</td>\n",
              "      <td>0.090000</td>\n",
              "      <td>0.000000</td>\n",
              "    </tr>\n",
              "    <tr>\n",
              "      <th>25%</th>\n",
              "      <td>1.475547e+09</td>\n",
              "      <td>1.230000</td>\n",
              "      <td>46.000000</td>\n",
              "      <td>30.400000</td>\n",
              "      <td>56.000000</td>\n",
              "      <td>82.220000</td>\n",
              "      <td>3.370000</td>\n",
              "    </tr>\n",
              "    <tr>\n",
              "      <th>50%</th>\n",
              "      <td>1.478026e+09</td>\n",
              "      <td>2.660000</td>\n",
              "      <td>50.000000</td>\n",
              "      <td>30.430000</td>\n",
              "      <td>85.000000</td>\n",
              "      <td>147.700000</td>\n",
              "      <td>5.620000</td>\n",
              "    </tr>\n",
              "    <tr>\n",
              "      <th>75%</th>\n",
              "      <td>1.480480e+09</td>\n",
              "      <td>354.240000</td>\n",
              "      <td>55.000000</td>\n",
              "      <td>30.460000</td>\n",
              "      <td>97.000000</td>\n",
              "      <td>179.310000</td>\n",
              "      <td>7.870000</td>\n",
              "    </tr>\n",
              "    <tr>\n",
              "      <th>max</th>\n",
              "      <td>1.483265e+09</td>\n",
              "      <td>1601.260000</td>\n",
              "      <td>71.000000</td>\n",
              "      <td>30.560000</td>\n",
              "      <td>103.000000</td>\n",
              "      <td>359.950000</td>\n",
              "      <td>40.500000</td>\n",
              "    </tr>\n",
              "  </tbody>\n",
              "</table>\n",
              "</div>"
            ],
            "text/plain": [
              "           UNIXTime     Radiation   Temperature      Pressure      Humidity  \\\n",
              "count  3.268500e+04  32685.000000  32685.000000  32685.000000  32685.000000   \n",
              "mean   1.478047e+09    207.130997     51.103350     30.422878     75.016797   \n",
              "std    3.005042e+06    315.919167      6.201228      0.054674     25.990465   \n",
              "min    1.472724e+09      1.110000     34.000000     30.190000      8.000000   \n",
              "25%    1.475547e+09      1.230000     46.000000     30.400000     56.000000   \n",
              "50%    1.478026e+09      2.660000     50.000000     30.430000     85.000000   \n",
              "75%    1.480480e+09    354.240000     55.000000     30.460000     97.000000   \n",
              "max    1.483265e+09   1601.260000     71.000000     30.560000    103.000000   \n",
              "\n",
              "       WindDirection(Degrees)         Speed  \n",
              "count            32685.000000  32685.000000  \n",
              "mean               143.488784      6.243888  \n",
              "std                 83.168561      3.490525  \n",
              "min                  0.090000      0.000000  \n",
              "25%                 82.220000      3.370000  \n",
              "50%                147.700000      5.620000  \n",
              "75%                179.310000      7.870000  \n",
              "max                359.950000     40.500000  "
            ]
          },
          "execution_count": 9,
          "metadata": {},
          "output_type": "execute_result"
        }
      ],
      "source": [
        "dataset.describe()"
      ]
    },
    {
      "cell_type": "markdown",
      "metadata": {
        "id": "M9moOVGyGxGw"
      },
      "source": [
        "Data Preprocessing (identifying the missing data, removing outliers, and cleaning data)"
      ]
    },
    {
      "cell_type": "code",
      "execution_count": 10,
      "metadata": {
        "colab": {
          "base_uri": "https://localhost:8080/",
          "height": 424
        },
        "id": "oUBTnv9nGyf0",
        "outputId": "c1ceeafa-c038-485f-f2f2-5f4c9def7314"
      },
      "outputs": [
        {
          "data": {
            "text/html": [
              "<div>\n",
              "<style scoped>\n",
              "    .dataframe tbody tr th:only-of-type {\n",
              "        vertical-align: middle;\n",
              "    }\n",
              "\n",
              "    .dataframe tbody tr th {\n",
              "        vertical-align: top;\n",
              "    }\n",
              "\n",
              "    .dataframe thead th {\n",
              "        text-align: right;\n",
              "    }\n",
              "</style>\n",
              "<table border=\"1\" class=\"dataframe\">\n",
              "  <thead>\n",
              "    <tr style=\"text-align: right;\">\n",
              "      <th></th>\n",
              "      <th>UNIXTime</th>\n",
              "      <th>Data</th>\n",
              "      <th>Time</th>\n",
              "      <th>Radiation</th>\n",
              "      <th>Temperature</th>\n",
              "      <th>Pressure</th>\n",
              "      <th>Humidity</th>\n",
              "      <th>WindDirection(Degrees)</th>\n",
              "      <th>Speed</th>\n",
              "      <th>TimeSunRise</th>\n",
              "      <th>TimeSunSet</th>\n",
              "    </tr>\n",
              "  </thead>\n",
              "  <tbody>\n",
              "    <tr>\n",
              "      <th>0</th>\n",
              "      <td>False</td>\n",
              "      <td>False</td>\n",
              "      <td>False</td>\n",
              "      <td>False</td>\n",
              "      <td>False</td>\n",
              "      <td>False</td>\n",
              "      <td>False</td>\n",
              "      <td>False</td>\n",
              "      <td>False</td>\n",
              "      <td>False</td>\n",
              "      <td>False</td>\n",
              "    </tr>\n",
              "    <tr>\n",
              "      <th>1</th>\n",
              "      <td>False</td>\n",
              "      <td>False</td>\n",
              "      <td>False</td>\n",
              "      <td>False</td>\n",
              "      <td>False</td>\n",
              "      <td>False</td>\n",
              "      <td>False</td>\n",
              "      <td>False</td>\n",
              "      <td>False</td>\n",
              "      <td>False</td>\n",
              "      <td>False</td>\n",
              "    </tr>\n",
              "    <tr>\n",
              "      <th>2</th>\n",
              "      <td>False</td>\n",
              "      <td>False</td>\n",
              "      <td>False</td>\n",
              "      <td>False</td>\n",
              "      <td>False</td>\n",
              "      <td>False</td>\n",
              "      <td>False</td>\n",
              "      <td>False</td>\n",
              "      <td>False</td>\n",
              "      <td>False</td>\n",
              "      <td>False</td>\n",
              "    </tr>\n",
              "    <tr>\n",
              "      <th>3</th>\n",
              "      <td>False</td>\n",
              "      <td>False</td>\n",
              "      <td>False</td>\n",
              "      <td>False</td>\n",
              "      <td>False</td>\n",
              "      <td>False</td>\n",
              "      <td>False</td>\n",
              "      <td>False</td>\n",
              "      <td>False</td>\n",
              "      <td>False</td>\n",
              "      <td>False</td>\n",
              "    </tr>\n",
              "    <tr>\n",
              "      <th>4</th>\n",
              "      <td>False</td>\n",
              "      <td>False</td>\n",
              "      <td>False</td>\n",
              "      <td>False</td>\n",
              "      <td>False</td>\n",
              "      <td>False</td>\n",
              "      <td>False</td>\n",
              "      <td>False</td>\n",
              "      <td>False</td>\n",
              "      <td>False</td>\n",
              "      <td>False</td>\n",
              "    </tr>\n",
              "    <tr>\n",
              "      <th>...</th>\n",
              "      <td>...</td>\n",
              "      <td>...</td>\n",
              "      <td>...</td>\n",
              "      <td>...</td>\n",
              "      <td>...</td>\n",
              "      <td>...</td>\n",
              "      <td>...</td>\n",
              "      <td>...</td>\n",
              "      <td>...</td>\n",
              "      <td>...</td>\n",
              "      <td>...</td>\n",
              "    </tr>\n",
              "    <tr>\n",
              "      <th>32680</th>\n",
              "      <td>False</td>\n",
              "      <td>False</td>\n",
              "      <td>False</td>\n",
              "      <td>False</td>\n",
              "      <td>False</td>\n",
              "      <td>False</td>\n",
              "      <td>False</td>\n",
              "      <td>False</td>\n",
              "      <td>False</td>\n",
              "      <td>False</td>\n",
              "      <td>False</td>\n",
              "    </tr>\n",
              "    <tr>\n",
              "      <th>32681</th>\n",
              "      <td>False</td>\n",
              "      <td>False</td>\n",
              "      <td>False</td>\n",
              "      <td>False</td>\n",
              "      <td>False</td>\n",
              "      <td>False</td>\n",
              "      <td>False</td>\n",
              "      <td>False</td>\n",
              "      <td>False</td>\n",
              "      <td>False</td>\n",
              "      <td>False</td>\n",
              "    </tr>\n",
              "    <tr>\n",
              "      <th>32682</th>\n",
              "      <td>False</td>\n",
              "      <td>False</td>\n",
              "      <td>False</td>\n",
              "      <td>False</td>\n",
              "      <td>False</td>\n",
              "      <td>False</td>\n",
              "      <td>False</td>\n",
              "      <td>False</td>\n",
              "      <td>False</td>\n",
              "      <td>False</td>\n",
              "      <td>False</td>\n",
              "    </tr>\n",
              "    <tr>\n",
              "      <th>32683</th>\n",
              "      <td>False</td>\n",
              "      <td>False</td>\n",
              "      <td>False</td>\n",
              "      <td>False</td>\n",
              "      <td>False</td>\n",
              "      <td>False</td>\n",
              "      <td>False</td>\n",
              "      <td>False</td>\n",
              "      <td>False</td>\n",
              "      <td>False</td>\n",
              "      <td>False</td>\n",
              "    </tr>\n",
              "    <tr>\n",
              "      <th>32684</th>\n",
              "      <td>False</td>\n",
              "      <td>False</td>\n",
              "      <td>False</td>\n",
              "      <td>False</td>\n",
              "      <td>False</td>\n",
              "      <td>False</td>\n",
              "      <td>False</td>\n",
              "      <td>False</td>\n",
              "      <td>False</td>\n",
              "      <td>False</td>\n",
              "      <td>False</td>\n",
              "    </tr>\n",
              "  </tbody>\n",
              "</table>\n",
              "<p>32685 rows × 11 columns</p>\n",
              "</div>"
            ],
            "text/plain": [
              "       UNIXTime   Data   Time  Radiation  Temperature  Pressure  Humidity  \\\n",
              "0         False  False  False      False        False     False     False   \n",
              "1         False  False  False      False        False     False     False   \n",
              "2         False  False  False      False        False     False     False   \n",
              "3         False  False  False      False        False     False     False   \n",
              "4         False  False  False      False        False     False     False   \n",
              "...         ...    ...    ...        ...          ...       ...       ...   \n",
              "32680     False  False  False      False        False     False     False   \n",
              "32681     False  False  False      False        False     False     False   \n",
              "32682     False  False  False      False        False     False     False   \n",
              "32683     False  False  False      False        False     False     False   \n",
              "32684     False  False  False      False        False     False     False   \n",
              "\n",
              "       WindDirection(Degrees)  Speed  TimeSunRise  TimeSunSet  \n",
              "0                       False  False        False       False  \n",
              "1                       False  False        False       False  \n",
              "2                       False  False        False       False  \n",
              "3                       False  False        False       False  \n",
              "4                       False  False        False       False  \n",
              "...                       ...    ...          ...         ...  \n",
              "32680                   False  False        False       False  \n",
              "32681                   False  False        False       False  \n",
              "32682                   False  False        False       False  \n",
              "32683                   False  False        False       False  \n",
              "32684                   False  False        False       False  \n",
              "\n",
              "[32685 rows x 11 columns]"
            ]
          },
          "execution_count": 10,
          "metadata": {},
          "output_type": "execute_result"
        }
      ],
      "source": [
        "dataset.isna()"
      ]
    },
    {
      "cell_type": "code",
      "execution_count": 11,
      "metadata": {
        "colab": {
          "base_uri": "https://localhost:8080/"
        },
        "id": "SPTLiBV7Hpw8",
        "outputId": "62a3fd1f-28ef-42d3-b750-29b0db78ee68"
      },
      "outputs": [
        {
          "data": {
            "text/plain": [
              "UNIXTime                  32685\n",
              "Data                      32685\n",
              "Time                      32685\n",
              "Radiation                 32685\n",
              "Temperature               32685\n",
              "Pressure                  32685\n",
              "Humidity                  32685\n",
              "WindDirection(Degrees)    32685\n",
              "Speed                     32685\n",
              "TimeSunRise               32685\n",
              "TimeSunSet                32685\n",
              "dtype: int64"
            ]
          },
          "execution_count": 11,
          "metadata": {},
          "output_type": "execute_result"
        }
      ],
      "source": [
        "dataset.isnull().count()"
      ]
    },
    {
      "cell_type": "code",
      "execution_count": 12,
      "metadata": {
        "colab": {
          "base_uri": "https://localhost:8080/",
          "height": 466
        },
        "id": "0hED4Tm4HxPQ",
        "outputId": "eb9668d3-dbce-4768-f614-6ac2a30ba413"
      },
      "outputs": [
        {
          "data": {
            "text/plain": [
              "<AxesSubplot:xlabel='Humidity'>"
            ]
          },
          "execution_count": 12,
          "metadata": {},
          "output_type": "execute_result"
        },
        {
          "data": {
            "image/png": "[encoded data removed]",
            "text/plain": [
              "<Figure size 640x480 with 1 Axes>"
            ]
          },
          "metadata": {},
          "output_type": "display_data"
        }
      ],
      "source": [
        "sns.boxplot(x=dataset['Humidity'])\n"
      ]
    },
    {
      "cell_type": "code",
      "execution_count": 13,
      "metadata": {
        "colab": {
          "base_uri": "https://localhost:8080/",
          "height": 466
        },
        "id": "eN3PlkUMJFFE",
        "outputId": "f1f1bf92-df09-480d-9f99-d7cdf6218ce2"
      },
      "outputs": [
        {
          "data": {
            "text/plain": [
              "<AxesSubplot:xlabel='Pressure'>"
            ]
          },
          "execution_count": 13,
          "metadata": {},
          "output_type": "execute_result"
        },
        {
          "data": {
            "image/png": "[encoded data removed]",
            "text/plain": [
              "<Figure size 640x480 with 1 Axes>"
            ]
          },
          "metadata": {},
          "output_type": "display_data"
        }
      ],
      "source": [
        "sns.boxplot(x=dataset['Pressure'])"
      ]
    },
    {
      "cell_type": "code",
      "execution_count": 14,
      "metadata": {
        "colab": {
          "base_uri": "https://localhost:8080/",
          "height": 466
        },
        "id": "ZuR3IKe2Kw-G",
        "outputId": "0c3f6b87-daa7-41ca-e6ca-a506714ee70f"
      },
      "outputs": [
        {
          "data": {
            "text/plain": [
              "<AxesSubplot:xlabel='Radiation'>"
            ]
          },
          "execution_count": 14,
          "metadata": {},
          "output_type": "execute_result"
        },
        {
          "data": {
            "image/png": "[encoded data removed]",
            "text/plain": [
              "<Figure size 640x480 with 1 Axes>"
            ]
          },
          "metadata": {},
          "output_type": "display_data"
        }
      ],
      "source": [
        "sns.boxplot(x=dataset['Radiation'])"
      ]
    },
    {
      "cell_type": "code",
      "execution_count": 15,
      "metadata": {
        "colab": {
          "base_uri": "https://localhost:8080/",
          "height": 466
        },
        "id": "pM2j96K6Ky8f",
        "outputId": "e3f07e1c-80dd-4a3d-ddb9-d046abd2292b"
      },
      "outputs": [
        {
          "data": {
            "text/plain": [
              "<AxesSubplot:xlabel='Temperature'>"
            ]
          },
          "execution_count": 15,
          "metadata": {},
          "output_type": "execute_result"
        },
        {
          "data": {
            "image/png": "[encoded data removed]",
            "text/plain": [
              "<Figure size 640x480 with 1 Axes>"
            ]
          },
          "metadata": {},
          "output_type": "display_data"
        }
      ],
      "source": [
        "sns.boxplot(x=dataset['Temperature'])"
      ]
    },
    {
      "cell_type": "code",
      "execution_count": 16,
      "metadata": {
        "colab": {
          "base_uri": "https://localhost:8080/",
          "height": 466
        },
        "id": "R9hcxpBQK0hh",
        "outputId": "39cc870c-d947-43c5-d4de-88115d750eef"
      },
      "outputs": [
        {
          "data": {
            "text/plain": [
              "<AxesSubplot:xlabel='WindDirection(Degrees)'>"
            ]
          },
          "execution_count": 16,
          "metadata": {},
          "output_type": "execute_result"
        },
        {
          "data": {
            "image/png": "[encoded data removed]",
            "text/plain": [
              "<Figure size 640x480 with 1 Axes>"
            ]
          },
          "metadata": {},
          "output_type": "display_data"
        }
      ],
      "source": [
        "sns.boxplot(x=dataset['WindDirection(Degrees)'])"
      ]
    },
    {
      "cell_type": "code",
      "execution_count": 17,
      "metadata": {
        "colab": {
          "base_uri": "https://localhost:8080/"
        },
        "id": "or3r4JGsK1pe",
        "outputId": "321c2da8-c3f0-44ab-f57c-558c481fd838"
      },
      "outputs": [
        {
          "name": "stdout",
          "output_type": "stream",
          "text": [
            "1.23 354.24\n"
          ]
        }
      ],
      "source": [
        "# Removing Outliers\n",
        "x= dataset['Radiation'].quantile(0.25)\n",
        "y= dataset['Radiation'].quantile(0.75)\n",
        "print(x,y)"
      ]
    },
    {
      "cell_type": "markdown",
      "metadata": {
        "id": "0G6qMw5_XjOf"
      },
      "source": [
        "Feature Selection using Pearson coefficient"
      ]
    },
    {
      "cell_type": "code",
      "execution_count": 18,
      "metadata": {
        "colab": {
          "base_uri": "https://localhost:8080/"
        },
        "id": "h7YyneSON5Q9",
        "outputId": "ddf7aa61-8719-4c42-9681-bf6dc46b7838"
      },
      "outputs": [
        {
          "name": "stdout",
          "output_type": "stream",
          "text": [
            "-0.22396333770164117\n"
          ]
        }
      ],
      "source": [
        "# correlation between pressure and humidity\n",
        "print(dataset['Pressure'].corr(dataset['Humidity']))"
      ]
    },
    {
      "cell_type": "code",
      "execution_count": 19,
      "metadata": {
        "colab": {
          "base_uri": "https://localhost:8080/"
        },
        "id": "KZ-dkg9vaCnG",
        "outputId": "73f1157a-3806-47ba-b581-1e018c941909"
      },
      "outputs": [
        {
          "data": {
            "text/plain": [
              "UNIXTime                  32685\n",
              "Data                      32685\n",
              "Time                      32685\n",
              "Radiation                 32685\n",
              "Temperature               32685\n",
              "Pressure                  32685\n",
              "Humidity                  32685\n",
              "WindDirection(Degrees)    32685\n",
              "Speed                     32685\n",
              "TimeSunRise               32685\n",
              "TimeSunSet                32685\n",
              "dtype: int64"
            ]
          },
          "execution_count": 19,
          "metadata": {},
          "output_type": "execute_result"
        }
      ],
      "source": [
        "dataset.isnull().count()"
      ]
    },
    {
      "cell_type": "code",
      "execution_count": 20,
      "metadata": {
        "id": "em3YHiORX90E"
      },
      "outputs": [],
      "source": [
        "data = dataset[[\"Pressure\", \"Humidity\", \"Radiation\", \"Temperature\", \"WindDirection(Degrees)\", \"Speed\"]]"
      ]
    },
    {
      "cell_type": "code",
      "execution_count": 21,
      "metadata": {
        "colab": {
          "base_uri": "https://localhost:8080/",
          "height": 424
        },
        "id": "4Q5MRQdoYwnS",
        "outputId": "4e514a88-c3b0-497e-a629-ec172080f8f9"
      },
      "outputs": [
        {
          "data": {
            "text/html": [
              "<div>\n",
              "<style scoped>\n",
              "    .dataframe tbody tr th:only-of-type {\n",
              "        vertical-align: middle;\n",
              "    }\n",
              "\n",
              "    .dataframe tbody tr th {\n",
              "        vertical-align: top;\n",
              "    }\n",
              "\n",
              "    .dataframe thead th {\n",
              "        text-align: right;\n",
              "    }\n",
              "</style>\n",
              "<table border=\"1\" class=\"dataframe\">\n",
              "  <thead>\n",
              "    <tr style=\"text-align: right;\">\n",
              "      <th></th>\n",
              "      <th>Pressure</th>\n",
              "      <th>Humidity</th>\n",
              "      <th>Radiation</th>\n",
              "      <th>Temperature</th>\n",
              "      <th>WindDirection(Degrees)</th>\n",
              "      <th>Speed</th>\n",
              "    </tr>\n",
              "  </thead>\n",
              "  <tbody>\n",
              "    <tr>\n",
              "      <th>0</th>\n",
              "      <td>30.46</td>\n",
              "      <td>58</td>\n",
              "      <td>1.21</td>\n",
              "      <td>48</td>\n",
              "      <td>176.78</td>\n",
              "      <td>3.37</td>\n",
              "    </tr>\n",
              "    <tr>\n",
              "      <th>1</th>\n",
              "      <td>30.46</td>\n",
              "      <td>57</td>\n",
              "      <td>1.23</td>\n",
              "      <td>48</td>\n",
              "      <td>158.75</td>\n",
              "      <td>3.37</td>\n",
              "    </tr>\n",
              "    <tr>\n",
              "      <th>2</th>\n",
              "      <td>30.46</td>\n",
              "      <td>60</td>\n",
              "      <td>1.21</td>\n",
              "      <td>48</td>\n",
              "      <td>137.71</td>\n",
              "      <td>3.37</td>\n",
              "    </tr>\n",
              "    <tr>\n",
              "      <th>3</th>\n",
              "      <td>30.46</td>\n",
              "      <td>62</td>\n",
              "      <td>1.17</td>\n",
              "      <td>48</td>\n",
              "      <td>104.95</td>\n",
              "      <td>5.62</td>\n",
              "    </tr>\n",
              "    <tr>\n",
              "      <th>4</th>\n",
              "      <td>30.46</td>\n",
              "      <td>64</td>\n",
              "      <td>1.21</td>\n",
              "      <td>48</td>\n",
              "      <td>120.20</td>\n",
              "      <td>5.62</td>\n",
              "    </tr>\n",
              "    <tr>\n",
              "      <th>...</th>\n",
              "      <td>...</td>\n",
              "      <td>...</td>\n",
              "      <td>...</td>\n",
              "      <td>...</td>\n",
              "      <td>...</td>\n",
              "      <td>...</td>\n",
              "    </tr>\n",
              "    <tr>\n",
              "      <th>32680</th>\n",
              "      <td>30.43</td>\n",
              "      <td>102</td>\n",
              "      <td>1.22</td>\n",
              "      <td>44</td>\n",
              "      <td>145.42</td>\n",
              "      <td>6.75</td>\n",
              "    </tr>\n",
              "    <tr>\n",
              "      <th>32681</th>\n",
              "      <td>30.42</td>\n",
              "      <td>102</td>\n",
              "      <td>1.17</td>\n",
              "      <td>44</td>\n",
              "      <td>117.78</td>\n",
              "      <td>6.75</td>\n",
              "    </tr>\n",
              "    <tr>\n",
              "      <th>32682</th>\n",
              "      <td>30.42</td>\n",
              "      <td>102</td>\n",
              "      <td>1.20</td>\n",
              "      <td>44</td>\n",
              "      <td>145.19</td>\n",
              "      <td>9.00</td>\n",
              "    </tr>\n",
              "    <tr>\n",
              "      <th>32683</th>\n",
              "      <td>30.42</td>\n",
              "      <td>101</td>\n",
              "      <td>1.23</td>\n",
              "      <td>44</td>\n",
              "      <td>164.19</td>\n",
              "      <td>7.87</td>\n",
              "    </tr>\n",
              "    <tr>\n",
              "      <th>32684</th>\n",
              "      <td>30.43</td>\n",
              "      <td>101</td>\n",
              "      <td>1.20</td>\n",
              "      <td>44</td>\n",
              "      <td>83.59</td>\n",
              "      <td>3.37</td>\n",
              "    </tr>\n",
              "  </tbody>\n",
              "</table>\n",
              "<p>32685 rows × 6 columns</p>\n",
              "</div>"
            ],
            "text/plain": [
              "       Pressure  Humidity  Radiation  Temperature  WindDirection(Degrees)  \\\n",
              "0         30.46        58       1.21           48                  176.78   \n",
              "1         30.46        57       1.23           48                  158.75   \n",
              "2         30.46        60       1.21           48                  137.71   \n",
              "3         30.46        62       1.17           48                  104.95   \n",
              "4         30.46        64       1.21           48                  120.20   \n",
              "...         ...       ...        ...          ...                     ...   \n",
              "32680     30.43       102       1.22           44                  145.42   \n",
              "32681     30.42       102       1.17           44                  117.78   \n",
              "32682     30.42       102       1.20           44                  145.19   \n",
              "32683     30.42       101       1.23           44                  164.19   \n",
              "32684     30.43       101       1.20           44                   83.59   \n",
              "\n",
              "       Speed  \n",
              "0       3.37  \n",
              "1       3.37  \n",
              "2       3.37  \n",
              "3       5.62  \n",
              "4       5.62  \n",
              "...      ...  \n",
              "32680   6.75  \n",
              "32681   6.75  \n",
              "32682   9.00  \n",
              "32683   7.87  \n",
              "32684   3.37  \n",
              "\n",
              "[32685 rows x 6 columns]"
            ]
          },
          "execution_count": 21,
          "metadata": {},
          "output_type": "execute_result"
        }
      ],
      "source": [
        "data"
      ]
    },
    {
      "cell_type": "code",
      "execution_count": 22,
      "metadata": {
        "colab": {
          "base_uri": "https://localhost:8080/",
          "height": 238
        },
        "id": "4BB-_j7GaV8S",
        "outputId": "048e4979-57c1-4cc7-e712-772ff3228d6a"
      },
      "outputs": [
        {
          "data": {
            "text/html": [
              "<div>\n",
              "<style scoped>\n",
              "    .dataframe tbody tr th:only-of-type {\n",
              "        vertical-align: middle;\n",
              "    }\n",
              "\n",
              "    .dataframe tbody tr th {\n",
              "        vertical-align: top;\n",
              "    }\n",
              "\n",
              "    .dataframe thead th {\n",
              "        text-align: right;\n",
              "    }\n",
              "</style>\n",
              "<table border=\"1\" class=\"dataframe\">\n",
              "  <thead>\n",
              "    <tr style=\"text-align: right;\">\n",
              "      <th></th>\n",
              "      <th>Pressure</th>\n",
              "      <th>Humidity</th>\n",
              "      <th>Radiation</th>\n",
              "      <th>Temperature</th>\n",
              "      <th>WindDirection(Degrees)</th>\n",
              "      <th>Speed</th>\n",
              "    </tr>\n",
              "  </thead>\n",
              "  <tbody>\n",
              "    <tr>\n",
              "      <th>Pressure</th>\n",
              "      <td>1.000000</td>\n",
              "      <td>-0.223963</td>\n",
              "      <td>0.119031</td>\n",
              "      <td>0.311187</td>\n",
              "      <td>-0.229021</td>\n",
              "      <td>-0.083636</td>\n",
              "    </tr>\n",
              "    <tr>\n",
              "      <th>Humidity</th>\n",
              "      <td>-0.223963</td>\n",
              "      <td>1.000000</td>\n",
              "      <td>-0.226186</td>\n",
              "      <td>-0.285067</td>\n",
              "      <td>-0.001826</td>\n",
              "      <td>-0.211628</td>\n",
              "    </tr>\n",
              "    <tr>\n",
              "      <th>Radiation</th>\n",
              "      <td>0.119031</td>\n",
              "      <td>-0.226186</td>\n",
              "      <td>1.000000</td>\n",
              "      <td>0.734952</td>\n",
              "      <td>-0.230318</td>\n",
              "      <td>0.073624</td>\n",
              "    </tr>\n",
              "    <tr>\n",
              "      <th>Temperature</th>\n",
              "      <td>0.311187</td>\n",
              "      <td>-0.285067</td>\n",
              "      <td>0.734952</td>\n",
              "      <td>1.000000</td>\n",
              "      <td>-0.259417</td>\n",
              "      <td>-0.031461</td>\n",
              "    </tr>\n",
              "    <tr>\n",
              "      <th>WindDirection(Degrees)</th>\n",
              "      <td>-0.229021</td>\n",
              "      <td>-0.001826</td>\n",
              "      <td>-0.230318</td>\n",
              "      <td>-0.259417</td>\n",
              "      <td>1.000000</td>\n",
              "      <td>0.073095</td>\n",
              "    </tr>\n",
              "    <tr>\n",
              "      <th>Speed</th>\n",
              "      <td>-0.083636</td>\n",
              "      <td>-0.211628</td>\n",
              "      <td>0.073624</td>\n",
              "      <td>-0.031461</td>\n",
              "      <td>0.073095</td>\n",
              "      <td>1.000000</td>\n",
              "    </tr>\n",
              "  </tbody>\n",
              "</table>\n",
              "</div>"
            ],
            "text/plain": [
              "                        Pressure  Humidity  Radiation  Temperature  \\\n",
              "Pressure                1.000000 -0.223963   0.119031     0.311187   \n",
              "Humidity               -0.223963  1.000000  -0.226186    -0.285067   \n",
              "Radiation               0.119031 -0.226186   1.000000     0.734952   \n",
              "Temperature             0.311187 -0.285067   0.734952     1.000000   \n",
              "WindDirection(Degrees) -0.229021 -0.001826  -0.230318    -0.259417   \n",
              "Speed                  -0.083636 -0.211628   0.073624    -0.031461   \n",
              "\n",
              "                        WindDirection(Degrees)     Speed  \n",
              "Pressure                             -0.229021 -0.083636  \n",
              "Humidity                             -0.001826 -0.211628  \n",
              "Radiation                            -0.230318  0.073624  \n",
              "Temperature                          -0.259417 -0.031461  \n",
              "WindDirection(Degrees)                1.000000  0.073095  \n",
              "Speed                                 0.073095  1.000000  "
            ]
          },
          "execution_count": 22,
          "metadata": {},
          "output_type": "execute_result"
        }
      ],
      "source": [
        "data.corr()"
      ]
    },
    {
      "cell_type": "code",
      "execution_count": 23,
      "metadata": {
        "colab": {
          "base_uri": "https://localhost:8080/"
        },
        "id": "VdjcclxmauPe",
        "outputId": "0de05382-faed-42c8-97c4-6341a0b722e6"
      },
      "outputs": [
        {
          "name": "stdout",
          "output_type": "stream",
          "text": [
            "Humidity                Temperature              -0.285067\n",
            "WindDirection(Degrees)  Temperature              -0.259417\n",
            "                        Radiation                -0.230318\n",
            "Pressure                WindDirection(Degrees)   -0.229021\n",
            "Humidity                Radiation                -0.226186\n",
            "Pressure                Humidity                 -0.223963\n",
            "Speed                   Humidity                 -0.211628\n",
            "                        Pressure                 -0.083636\n",
            "                        Temperature              -0.031461\n",
            "Humidity                WindDirection(Degrees)   -0.001826\n",
            "Speed                   WindDirection(Degrees)    0.073095\n",
            "Radiation               Speed                     0.073624\n",
            "                        Pressure                  0.119031\n",
            "Temperature             Pressure                  0.311187\n",
            "Radiation               Temperature               0.734952\n",
            "Pressure                Pressure                  1.000000\n",
            "dtype: float64\n"
          ]
        }
      ],
      "source": [
        "corrdata = data.corr().unstack().sort_values().drop_duplicates()\n",
        "print(corrdata)"
      ]
    },
    {
      "cell_type": "code",
      "execution_count": 24,
      "metadata": {
        "colab": {
          "base_uri": "https://localhost:8080/",
          "height": 437
        },
        "id": "NhVarpMpcO8C",
        "outputId": "a80c4151-b2d1-4424-d30f-de907744c944"
      },
      "outputs": [
        {
          "data": {
            "image/png": "[encoded data removed]",
            "text/plain": [
              "<Figure size 480x480 with 1 Axes>"
            ]
          },
          "metadata": {},
          "output_type": "display_data"
        }
      ],
      "source": [
        "plt.matshow(data.corr())\n",
        "plt.show()"
      ]
    },
    {
      "cell_type": "code",
      "execution_count": 25,
      "metadata": {
        "colab": {
          "base_uri": "https://localhost:8080/",
          "height": 851
        },
        "id": "iOqh4kwidfF3",
        "outputId": "ff958d73-394e-45fa-f890-01c423134334"
      },
      "outputs": [
        {
          "data": {
            "image/png": "[encoded data removed]",
            "text/plain": [
              "<Figure size 1000x800 with 2 Axes>"
            ]
          },
          "metadata": {},
          "output_type": "display_data"
        }
      ],
      "source": [
        "corr_matrix = data.corr()\n",
        "\n",
        "#Create a heatmap using seaborn\n",
        "plt.figure(figsize=(10, 8))\n",
        "sns.heatmap(corr_matrix, annot=True, cmap='coolwarm', center=0)\n",
        "plt.title('Correlation Matrix Heatmap')\n",
        "plt.show()"
      ]
    },
    {
      "cell_type": "markdown",
      "metadata": {
        "id": "nj9XkSn0XFEM"
      },
      "source": [
        "Data Splitting into Train and Test"
      ]
    },
    {
      "cell_type": "code",
      "execution_count": 26,
      "metadata": {
        "colab": {
          "base_uri": "https://localhost:8080/"
        },
        "id": "w6pDuzBjWzkG",
        "outputId": "0750213e-25ae-4aed-c1bb-035ba5d832ab"
      },
      "outputs": [
        {
          "data": {
            "text/plain": [
              "(       Pressure  Humidity  Temperature  WindDirection(Degrees)  Speed\n",
              " 0         30.46        58           48                  176.78   3.37\n",
              " 1         30.46        57           48                  158.75   3.37\n",
              " 2         30.46        60           48                  137.71   3.37\n",
              " 3         30.46        62           48                  104.95   5.62\n",
              " 4         30.46        64           48                  120.20   5.62\n",
              " ...         ...       ...          ...                     ...    ...\n",
              " 32680     30.43       102           44                  145.42   6.75\n",
              " 32681     30.42       102           44                  117.78   6.75\n",
              " 32682     30.42       102           44                  145.19   9.00\n",
              " 32683     30.42       101           44                  164.19   7.87\n",
              " 32684     30.43       101           44                   83.59   3.37\n",
              " \n",
              " [32685 rows x 5 columns],\n",
              " 0        1.21\n",
              " 1        1.23\n",
              " 2        1.21\n",
              " 3        1.17\n",
              " 4        1.21\n",
              "          ... \n",
              " 32680    1.22\n",
              " 32681    1.17\n",
              " 32682    1.20\n",
              " 32683    1.23\n",
              " 32684    1.20\n",
              " Name: Radiation, Length: 32685, dtype: float64)"
            ]
          },
          "execution_count": 26,
          "metadata": {},
          "output_type": "execute_result"
        }
      ],
      "source": [
        "y = data.Radiation\n",
        "X = data.drop(columns=\"Radiation\", axis=1)\n",
        "X, y"
      ]
    },
    {
      "cell_type": "code",
      "execution_count": 27,
      "metadata": {
        "id": "6ujdN_-eYw_l"
      },
      "outputs": [],
      "source": [
        "X_train, X_test, y_train, y_test = train_test_split(X, y, test_size=0.2, random_state=1000)"
      ]
    },
    {
      "cell_type": "code",
      "execution_count": 28,
      "metadata": {
        "colab": {
          "base_uri": "https://localhost:8080/"
        },
        "id": "yyRIQgcvQbpi",
        "outputId": "f9ecee90-ff26-48e1-d32e-5c0cc3309e3b"
      },
      "outputs": [
        {
          "data": {
            "text/plain": [
              "(       Pressure  Humidity  Temperature  WindDirection(Degrees)  Speed\n",
              " 24570     30.33        88           46                  273.44   4.50\n",
              " 27228     30.40        56           59                  131.73   5.62\n",
              " 31385     30.36        93           45                  310.00   9.00\n",
              " 1131      30.47        54           48                  164.88   5.62\n",
              " 7712      30.50       101           47                  107.80   4.50\n",
              " ...         ...       ...          ...                     ...    ...\n",
              " 15611     30.42        93           49                  129.82  12.37\n",
              " 3776      30.47        83           60                   80.81   3.37\n",
              " 6215      30.45        85           58                  321.84  11.25\n",
              " 4695      30.52        56           64                  263.71   4.50\n",
              " 9651      30.41        61           47                  183.52   7.87\n",
              " \n",
              " [26148 rows x 5 columns],\n",
              "        Pressure  Humidity  Temperature  WindDirection(Degrees)  Speed\n",
              " 23186     30.43        59           61                   36.47   7.87\n",
              " 5479      30.39       101           49                   54.83   1.12\n",
              " 19144     30.41        81           51                  164.48   4.50\n",
              " 12338     30.48        24           54                  142.53   2.25\n",
              " 25918     30.42        37           46                  130.02   7.87\n",
              " ...         ...       ...          ...                     ...    ...\n",
              " 9113      30.41        51           45                  149.31   4.50\n",
              " 32097     30.33        93           45                   93.66   3.37\n",
              " 20714     30.44        52           45                  186.95   3.37\n",
              " 10016     30.42       101           47                   77.81   6.75\n",
              " 15372     30.43       100           50                  120.06   4.50\n",
              " \n",
              " [6537 rows x 5 columns])"
            ]
          },
          "execution_count": 28,
          "metadata": {},
          "output_type": "execute_result"
        }
      ],
      "source": [
        "X_train, X_test"
      ]
    },
    {
      "cell_type": "markdown",
      "metadata": {
        "id": "Ai5KQIdkV899"
      },
      "source": [
        "Data Scaling and Normalization."
      ]
    },
    {
      "cell_type": "code",
      "execution_count": 29,
      "metadata": {
        "id": "KjXjrR42QDpe"
      },
      "outputs": [],
      "source": [
        "scaler=StandardScaler()\n",
        "X_train=scaler.fit_transform(X_train)\n",
        "X_test=scaler.transform(X_test)\n",
        "pickle.dump(scaler,open('scaling.pkl','wb'))"
      ]
    },
    {
      "cell_type": "markdown",
      "metadata": {
        "id": "Q-mNbaNKaJaL"
      },
      "source": [
        "Model Training"
      ]
    },
    {
      "cell_type": "code",
      "execution_count": 30,
      "metadata": {
        "colab": {
          "base_uri": "https://localhost:8080/"
        },
        "id": "Q8qKH4vkaKFd",
        "outputId": "da7ffa0a-1f48-4171-a429-216564f30b79"
      },
      "outputs": [
        {
          "name": "stdout",
          "output_type": "stream",
          "text": [
            "0.5744366801652399\n"
          ]
        }
      ],
      "source": [
        "#Linear Regression model training\n",
        "regr = LinearRegression()\n",
        "regr.fit(X_train, y_train)\n",
        "print(regr.score(X_test, y_test))"
      ]
    },
    {
      "cell_type": "code",
      "execution_count": 31,
      "metadata": {
        "colab": {
          "base_uri": "https://localhost:8080/"
        },
        "id": "TXSYYy4HbJPR",
        "outputId": "2b9cf76f-fad0-4949-ef51-ef01f99595ad"
      },
      "outputs": [
        {
          "name": "stdout",
          "output_type": "stream",
          "text": [
            "(6537, 5)\n",
            "(6537,)\n"
          ]
        }
      ],
      "source": [
        "print(X_test.shape)\n",
        "print(y_test.shape)"
      ]
    },
    {
      "cell_type": "markdown",
      "metadata": {
        "id": "IVGhBYcQcwK6"
      },
      "source": [
        "Predicting on test Dataset."
      ]
    },
    {
      "cell_type": "code",
      "execution_count": 32,
      "metadata": {
        "id": "Gf2nmJKTas3_"
      },
      "outputs": [],
      "source": [
        "y_pred = regr.predict(X_test)\n"
      ]
    },
    {
      "cell_type": "markdown",
      "metadata": {
        "id": "CP2Z5-sJc0Gq"
      },
      "source": [
        "Performance Metric"
      ]
    },
    {
      "cell_type": "code",
      "execution_count": 33,
      "metadata": {
        "colab": {
          "base_uri": "https://localhost:8080/"
        },
        "id": "jfHP9ZwIc1GP",
        "outputId": "6d28ee2a-d8b7-4596-c39b-a8050b4b6ab9"
      },
      "outputs": [
        {
          "data": {
            "text/plain": [
              "0.5744366801652399"
            ]
          },
          "execution_count": 33,
          "metadata": {},
          "output_type": "execute_result"
        }
      ],
      "source": [
        "r2_score(y_test, y_pred)"
      ]
    },
    {
      "cell_type": "markdown",
      "metadata": {
        "id": "VzUbM1TaRj9p"
      },
      "source": [
        "Random Forest Model"
      ]
    },
    {
      "cell_type": "code",
      "execution_count": 34,
      "metadata": {
        "colab": {
          "base_uri": "https://localhost:8080/",
          "height": 75
        },
        "id": "yNimcaBjgZQf",
        "outputId": "eb2acd57-471c-4666-fc60-1238d1a02503"
      },
      "outputs": [
        {
          "data": {
            "text/plain": [
              "RandomForestRegressor(max_depth=2, random_state=0)"
            ]
          },
          "execution_count": 34,
          "metadata": {},
          "output_type": "execute_result"
        }
      ],
      "source": [
        "regr_random = RandomForestRegressor(max_depth=2, random_state=0)\n",
        "regr_random.fit(X_train, y_train)"
      ]
    },
    {
      "cell_type": "code",
      "execution_count": 35,
      "metadata": {
        "id": "RAGC9a79hUQr"
      },
      "outputs": [],
      "source": [
        "y_pred = regr_random.predict(X_test)"
      ]
    },
    {
      "cell_type": "code",
      "execution_count": 36,
      "metadata": {
        "colab": {
          "base_uri": "https://localhost:8080/"
        },
        "id": "cY17TLcehYxk",
        "outputId": "2c7c6394-01dc-4645-b766-2a831781aea1"
      },
      "outputs": [
        {
          "data": {
            "text/plain": [
              "0.6109141754321281"
            ]
          },
          "execution_count": 36,
          "metadata": {},
          "output_type": "execute_result"
        }
      ],
      "source": [
        "r2_score(y_test, y_pred)"
      ]
    },
    {
      "cell_type": "code",
      "execution_count": 37,
      "metadata": {
        "colab": {
          "base_uri": "https://localhost:8080/"
        },
        "id": "mtk0dp9ChjwJ",
        "outputId": "e6caf1c3-c934-4100-a1dd-2e6d20b270a8"
      },
      "outputs": [
        {
          "data": {
            "text/plain": [
              "{'bootstrap': True,\n",
              " 'ccp_alpha': 0.0,\n",
              " 'criterion': 'squared_error',\n",
              " 'max_depth': 2,\n",
              " 'max_features': 'auto',\n",
              " 'max_leaf_nodes': None,\n",
              " 'max_samples': None,\n",
              " 'min_impurity_decrease': 0.0,\n",
              " 'min_samples_leaf': 1,\n",
              " 'min_samples_split': 2,\n",
              " 'min_weight_fraction_leaf': 0.0,\n",
              " 'n_estimators': 100,\n",
              " 'n_jobs': None,\n",
              " 'oob_score': False,\n",
              " 'random_state': 0,\n",
              " 'verbose': 0,\n",
              " 'warm_start': False}"
            ]
          },
          "execution_count": 37,
          "metadata": {},
          "output_type": "execute_result"
        }
      ],
      "source": [
        "regr_random.get_params()"
      ]
    },
    {
      "cell_type": "markdown",
      "metadata": {
        "id": "lYXp1PnNWAEw"
      },
      "source": [
        "Testing on New Data"
      ]
    },
    {
      "cell_type": "code",
      "execution_count": 38,
      "metadata": {
        "colab": {
          "base_uri": "https://localhost:8080/"
        },
        "id": "iBJzDonfSu2I",
        "outputId": "e5251adb-4237-4203-edd9-7ccd881bfd75"
      },
      "outputs": [
        {
          "data": {
            "text/plain": [
              "array([[ 0.12369111, -0.61502548,  1.59546335, -1.28722738,  0.45695848]])"
            ]
          },
          "execution_count": 38,
          "metadata": {},
          "output_type": "execute_result"
        }
      ],
      "source": [
        "X_test[0].reshape(1,-1)\n",
        "\n"
      ]
    },
    {
      "cell_type": "code",
      "execution_count": 39,
      "metadata": {
        "colab": {
          "base_uri": "https://localhost:8080/"
        },
        "id": "6teliBUXTpEi",
        "outputId": "11ac8893-df76-4056-ad04-4f611c936a5a"
      },
      "outputs": [
        {
          "name": "stderr",
          "output_type": "stream",
          "text": [
            "c:\\Users\\Rahul\\Desktop\\Projects\\Solar-Radiation-Prediction\\venv\\lib\\site-packages\\sklearn\\base.py:451: UserWarning: X does not have valid feature names, but StandardScaler was fitted with feature names\n",
            "  \"X does not have valid feature names, but\"\n"
          ]
        },
        {
          "data": {
            "text/plain": [
              "array([[-556.58069609,   -2.90725781,   -7.99661949,   -1.74191403,\n",
              "          -1.65530128]])"
            ]
          },
          "execution_count": 39,
          "metadata": {},
          "output_type": "execute_result"
        }
      ],
      "source": [
        "scaler.transform(X_test[0].reshape(1,-1))"
      ]
    },
    {
      "cell_type": "code",
      "execution_count": 40,
      "metadata": {
        "colab": {
          "base_uri": "https://localhost:8080/"
        },
        "id": "wxwc8lMKUTW8",
        "outputId": "5b4bf6ec-ba90-4952-ba44-78021164c7fe"
      },
      "outputs": [
        {
          "name": "stderr",
          "output_type": "stream",
          "text": [
            "c:\\Users\\Rahul\\Desktop\\Projects\\Solar-Radiation-Prediction\\venv\\lib\\site-packages\\sklearn\\base.py:451: UserWarning: X does not have valid feature names, but StandardScaler was fitted with feature names\n",
            "  \"X does not have valid feature names, but\"\n"
          ]
        },
        {
          "data": {
            "text/plain": [
              "array([47.12041462])"
            ]
          },
          "execution_count": 40,
          "metadata": {},
          "output_type": "execute_result"
        }
      ],
      "source": [
        "regr_random.predict(scaler.transform(X_test[0].reshape(1,-1)))"
      ]
    },
    {
      "cell_type": "markdown",
      "metadata": {
        "id": "VgXgK5R_WF_4"
      },
      "source": [
        "Hyper Parameter Tuning - Optional"
      ]
    },
    {
      "cell_type": "code",
      "execution_count": 41,
      "metadata": {
        "colab": {
          "base_uri": "https://localhost:8080/"
        },
        "id": "9WARnXFAhoYc",
        "outputId": "fc93c1db-08f2-4705-8c9e-a39695c7ce0d"
      },
      "outputs": [
        {
          "data": {
            "text/plain": [
              "9000"
            ]
          },
          "execution_count": 41,
          "metadata": {},
          "output_type": "execute_result"
        }
      ],
      "source": [
        "parameters ={'max_depth': [10, 20, 30, 40, 50, 60, 70, 80, 90, 100],\n",
        "     'criterion' : ['gini', 'entropy', 'squared_error'],\n",
        "     'max_features': [0.3,0.5,0.7,0.9],\n",
        "     'min_samples_leaf': [3,5,7,10,15],\n",
        "     'min_samples_split': [2,5,10],\n",
        "     'n_estimators': [50,100,200,400,600]}\n",
        "\n",
        "param_size = ParameterGrid(parameters)\n",
        "len(param_size)"
      ]
    },
    {
      "cell_type": "code",
      "execution_count": 42,
      "metadata": {
        "id": "IJI_WYGriMYy"
      },
      "outputs": [],
      "source": [
        "\n",
        "# grid_search=RandomForestRegressor()\n",
        "# grid_search=GridSearchCV(grid_search, parameters, cv=5,scoring='accuracy',n_jobs=-1)\n",
        "# grid_result=grid_search.fit(X_train, y_train)\n",
        "# print('Best Params: ', grid_result.best_params_)\n",
        "# print('Best Score: ', grid_result.best_score_)"
      ]
    },
    {
      "cell_type": "markdown",
      "metadata": {
        "id": "tzc392WdXHl3"
      },
      "source": [
        "Pickling The Model file For Deployment"
      ]
    },
    {
      "cell_type": "code",
      "execution_count": 43,
      "metadata": {
        "id": "BCUf8UJWXGho"
      },
      "outputs": [],
      "source": [
        "pickle.dump(regr_random,open('regmodel.pkl','wb'))"
      ]
    },
    {
      "cell_type": "code",
      "execution_count": 44,
      "metadata": {},
      "outputs": [],
      "source": [
        "pickle.dump(regr,open('linear_reg.pkl', 'wb'))"
      ]
    },
    {
      "cell_type": "code",
      "execution_count": 45,
      "metadata": {
        "id": "pFWxXzmXXZPl"
      },
      "outputs": [],
      "source": [
        "pickled_model=pickle.load(open('regmodel.pkl','rb'))"
      ]
    },
    {
      "cell_type": "code",
      "execution_count": 46,
      "metadata": {
        "colab": {
          "base_uri": "https://localhost:8080/"
        },
        "id": "mI0MObhcXd9D",
        "outputId": "f2b730ff-55e6-46c2-d446-11cd6fa92e82"
      },
      "outputs": [
        {
          "name": "stderr",
          "output_type": "stream",
          "text": [
            "c:\\Users\\Rahul\\Desktop\\Projects\\Solar-Radiation-Prediction\\venv\\lib\\site-packages\\sklearn\\base.py:451: UserWarning: X does not have valid feature names, but StandardScaler was fitted with feature names\n",
            "  \"X does not have valid feature names, but\"\n"
          ]
        },
        {
          "data": {
            "text/plain": [
              "array([47.12041462])"
            ]
          },
          "execution_count": 46,
          "metadata": {},
          "output_type": "execute_result"
        }
      ],
      "source": [
        "## Prediction\n",
        "pickled_model.predict(scaler.transform(X_test[0].reshape(1,-1)))"
      ]
    }
  ],
  "metadata": {
    "accelerator": "GPU",
    "colab": {
      "gpuType": "T4",
      "provenance": []
    },
    "kernelspec": {
      "display_name": "Python 3",
      "name": "python3"
    },
    "language_info": {
      "codemirror_mode": {
        "name": "ipython",
        "version": 3
      },
      "file_extension": ".py",
      "mimetype": "text/x-python",
      "name": "python",
      "nbconvert_exporter": "python",
      "pygments_lexer": "ipython3",
      "version": "3.7.0"
    }
  },
  "nbformat": 4,
  "nbformat_minor": 0
}
